{
 "cells": [
  {
   "cell_type": "code",
   "execution_count": 1,
   "metadata": {},
   "outputs": [],
   "source": [
    "import universaldatatool as udt"
   ]
  },
  {
   "cell_type": "code",
   "execution_count": 2,
   "metadata": {},
   "outputs": [
    {
     "name": "stdout",
     "output_type": "stream",
     "text": [
      "None interface\n",
      "<universaldatatool.interface.Interface object at 0x7fd2a80bafd0> samples\n"
     ]
    }
   ],
   "source": [
    "ds = udt.Dataset(\n",
    "    type=\"image_classification\",\n",
    "    labels=[\"good kitty\", \"bad kitty\"],\n",
    "    image_url=\"https://placekitten.com/408/287\"\n",
    ")"
   ]
  },
  {
   "cell_type": "code",
   "execution_count": 10,
   "metadata": {},
   "outputs": [
    {
     "data": {
      "text/plain": [
       "{'imageUrl': 'https://placekitten.com/408/287'}"
      ]
     },
     "execution_count": 10,
     "metadata": {},
     "output_type": "execute_result"
    }
   ],
   "source": [
    "ds.samples[0].to_dict()"
   ]
  },
  {
   "cell_type": "code",
   "execution_count": 9,
   "metadata": {},
   "outputs": [
    {
     "data": {
      "text/html": [
       "<div id=\"universal-data-tool-1\"></div>\n",
       "    <script type=\"text/javascript\" src=\"https://s3.amazonaws.com/asset.workaround.online/tmp/vanilla.js\"></script>\n",
       "    <script type=\"text/javascript\">\n",
       "    window.UniversalDataTool.open({\n",
       "        container: \"universal-data-tool-1\",\n",
       "        height:700,\n",
       "        udt: {\"interface\": {\"availableLabels\": [\"good kitty\", \"bad kitty\"], \"labels\": [\"good kitty\", \"bad kitty\"], \"type\": \"image_classification\"}, \"taskData\": [{\"imageUrl\": \"https://placekitten.com/408/287\"}], \"taskOutput\": [null]},\n",
       "        onSaveTaskOutputItem: (index, output) => {\n",
       "            console.log(`\n",
       "            import universaldatatool as __udt\n",
       "            __udt_last_changed = __udt.get_udt_notebook_instance(\"universal-data-tool-1\")\n",
       "            __udt_last_changed.samples[${ index }].annotation = ${JSON.stringify(output)}\n",
       "            `.trim())\n",
       "            Jupyter.notebook.kernel.execute(`\n",
       "import universaldatatool as __udt\n",
       "__udt_last_changed = __udt.get_udt_notebook_instance(\"universal-data-tool-1\")\n",
       "__udt_last_changed.samples[${ index }].annotation = ${JSON.stringify(output)}\n",
       "            `.trim())\n",
       "        }\n",
       "    })\n",
       "    </script>"
      ],
      "text/plain": [
       "<IPython.core.display.HTML object>"
      ]
     },
     "metadata": {},
     "output_type": "display_data"
    },
    {
     "data": {
      "text/plain": [
       "<universaldatatool.dataset.Dataset at 0x7fd2a80baf70>"
      ]
     },
     "execution_count": 9,
     "metadata": {},
     "output_type": "execute_result"
    }
   ],
   "source": [
    "udt.nb.open(ds)"
   ]
  },
  {
   "cell_type": "code",
   "execution_count": 11,
   "metadata": {},
   "outputs": [
    {
     "data": {
      "text/plain": [
       "{'imageUrl': 'https://placekitten.com/408/287', 'annotation': 'good kitty'}"
      ]
     },
     "execution_count": 11,
     "metadata": {},
     "output_type": "execute_result"
    }
   ],
   "source": [
    "ds.samples[0].to_dict()"
   ]
  },
  {
   "cell_type": "code",
   "execution_count": null,
   "metadata": {},
   "outputs": [],
   "source": [
    "ds.save(\"asd.udt.json\")"
   ]
  }
 ],
 "metadata": {
  "kernelspec": {
   "display_name": "Python 3",
   "language": "python",
   "name": "python3"
  },
  "language_info": {
   "codemirror_mode": {
    "name": "ipython",
    "version": 3
   },
   "file_extension": ".py",
   "mimetype": "text/x-python",
   "name": "python",
   "nbconvert_exporter": "python",
   "pygments_lexer": "ipython3",
   "version": "3.8.2"
  }
 },
 "nbformat": 4,
 "nbformat_minor": 2
}
